{
 "cells": [
  {
   "cell_type": "code",
   "execution_count": 2,
   "metadata": {
    "collapsed": false
   },
   "outputs": [
    {
     "name": "stderr",
     "output_type": "stream",
     "text": [
      "/Users/mattbaranowski/anaconda/lib/python2.7/site-packages/matplotlib/font_manager.py:273: UserWarning: Matplotlib is building the font cache using fc-list. This may take a moment.\n",
      "  warnings.warn('Matplotlib is building the font cache using fc-list. This may take a moment.')\n"
     ]
    }
   ],
   "source": [
    "%matplotlib inline\n",
    "import numpy as np\n",
    "import scipy as sp\n",
    "import matplotlib.pyplot as plt"
   ]
  },
  {
   "cell_type": "code",
   "execution_count": 3,
   "metadata": {
    "collapsed": false,
    "scrolled": true
   },
   "outputs": [
    {
     "data": {
      "text/plain": [
       "<matplotlib.collections.PathCollection at 0x10adcbf10>"
      ]
     },
     "execution_count": 3,
     "metadata": {},
     "output_type": "execute_result"
    },
    {
     "data": {
      "image/png": "[encoded data removed]",
      "text/plain": [
       "<matplotlib.figure.Figure at 0x109751250>"
      ]
     },
     "metadata": {},
     "output_type": "display_data"
    }
   ],
   "source": [
    "# function to generate some synthetic data\n",
    "# our goal is to predict the unknown parameters (slope and intercept on a graph)\n",
    "b = np.array([ 0.53, -0.40 ])\n",
    "\n",
    "# this is essentially the line equation: y = mx + b\n",
    "hiddenFunc = lambda x: x[0] * b[0] + x[1] * b[1] \n",
    "\n",
    "# add some noise, because real world is complex\n",
    "noisyHiddenFunc = lambda x:  hiddenFunc(x) + (np.random.randn() * 0.1)\n",
    "\n",
    "# generate 50 random samples of the noisy real world process\n",
    "xVals = np.random.rand(50)\n",
    "yVals = [noisyHiddenFunc([x, 1]) for x in xVals]\n",
    "\n",
    "# get data in the right shape\n",
    "y = np.array(yVals).reshape(-1,1) \n",
    "X = np.array([ xVals, np.ones(len(xVals))]).T\n",
    "\n",
    "fig1 = plt.figure()\n",
    "plt.scatter(xVals, yVals)"
   ]
  },
  {
   "cell_type": "markdown",
   "metadata": {},
   "source": [
    "\\begin{array}{rcl} \\hat \\beta &=& (X^TX)^{-1}X^Ty \\end{array}"
   ]
  },
  {
   "cell_type": "code",
   "execution_count": 4,
   "metadata": {
    "collapsed": false
   },
   "outputs": [
    {
     "name": "stdout",
     "output_type": "stream",
     "text": [
      "[[ 0.52521825]\n",
      " [-0.40668241]]\n"
     ]
    }
   ],
   "source": [
    "# solve the normal equation above\n",
    "w2 = np.linalg.inv(X.T.dot(X)).dot(X.T).dot(y)\n",
    "print w2"
   ]
  },
  {
   "cell_type": "code",
   "execution_count": 25,
   "metadata": {
    "collapsed": false,
    "scrolled": true
   },
   "outputs": [
    {
     "data": {
      "text/plain": [
       "[<matplotlib.lines.Line2D at 0x1097a5710>,\n",
       " <matplotlib.lines.Line2D at 0x1097a5910>]"
      ]
     },
     "execution_count": 25,
     "metadata": {},
     "output_type": "execute_result"
    },
    {
     "data": {
      "image/png": "[encoded data removed]",
      "text/plain": [
       "<matplotlib.figure.Figure at 0x109277690>"
      ]
     },
     "metadata": {},
     "output_type": "display_data"
    }
   ],
   "source": [
    "fig2 = plt.figure()\n",
    "line = w[0]*xVals+w[1]\n",
    "plt.plot(xVals,line,'r-',xVals,yVals,'o')"
   ]
  },
  {
   "cell_type": "code",
   "execution_count": 27,
   "metadata": {
    "collapsed": false
   },
   "outputs": [
    {
     "name": "stdout",
     "output_type": "stream",
     "text": [
      "0.538912290854 -0.400706232201\n"
     ]
    }
   ],
   "source": [
    "# linear regression using numpy builtin lstsq method\n",
    "w = np.linalg.lstsq(X,yVals)[0]\n",
    "\n",
    "# this should \n",
    "print w[0], w[1]"
   ]
  },
  {
   "cell_type": "code",
   "execution_count": null,
   "metadata": {
    "collapsed": true
   },
   "outputs": [],
   "source": []
  }
 ],
 "metadata": {
  "kernelspec": {
   "display_name": "Python 2",
   "language": "python",
   "name": "python2"
  },
  "language_info": {
   "codemirror_mode": {
    "name": "ipython",
    "version": 2
   },
   "file_extension": ".py",
   "mimetype": "text/x-python",
   "name": "python",
   "nbconvert_exporter": "python",
   "pygments_lexer": "ipython2",
   "version": "2.7.13"
  }
 },
 "nbformat": 4,
 "nbformat_minor": 0
}
